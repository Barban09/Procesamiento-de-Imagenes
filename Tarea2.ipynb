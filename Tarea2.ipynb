{
  "nbformat": 4,
  "nbformat_minor": 0,
  "metadata": {
    "colab": {
      "name": "Tarea2.ipynb",
      "provenance": [],
      "authorship_tag": "ABX9TyNQr8GfffTL5rXQqneoAHx+",
      "include_colab_link": true
    },
    "kernelspec": {
      "name": "python3",
      "display_name": "Python 3"
    }
  },
  "cells": [
    {
      "cell_type": "markdown",
      "metadata": {
        "id": "view-in-github",
        "colab_type": "text"
      },
      "source": [
        "<a href=\"https://colab.research.google.com/github/Barban09/Procesamiento-de-Imagenes/blob/master/Tarea2.ipynb\" target=\"_parent\"><img src=\"https://colab.research.google.com/assets/colab-badge.svg\" alt=\"Open In Colab\"/></a>"
      ]
    },
    {
      "cell_type": "markdown",
      "metadata": {
        "id": "hF3Krss14FJk",
        "colab_type": "text"
      },
      "source": [
        "Metodo 1"
      ]
    },
    {
      "cell_type": "code",
      "metadata": {
        "id": "gAb4NKDT5INb",
        "colab_type": "code",
        "colab": {
          "base_uri": "https://localhost:8080/",
          "height": 350
        },
        "outputId": "c289f45c-77d2-456b-a6ef-28e76ff7e02c"
      },
      "source": [
        "import pandas as pd\n",
        "import numpy as np\n",
        "df=pd.read_csv(\"data_classification.csv\", sep=';',header=0)\n",
        "arr=df.values\n",
        "YCOL=2\n",
        "Xb=arr[:,0:YCOL]\n",
        "Xa=np.ones((len(Xb),1))\n",
        "X=np.concatenate((Xa,Xb),axis=1)\n",
        "Y=arr[:,YCOL]\n",
        "YCOL2=5\n",
        "thetas=np.array([-12.702, 1.3608, 1.1468])\n",
        "Num_Iter=2500\n",
        "alpha=0.5\n",
        "cinit=112\n",
        "\n",
        "\n",
        "features=X\n",
        "labels=Y\n",
        "\n",
        "for alpha in np.arange(0.4,0.5,0.001):\n",
        "  weights, costo=train(X, Y, thetas, alpha, Num_Iter)\n",
        "  if costo[-1]<cinit:\n",
        "    pesofin=weights\n",
        "    cinit=costo[-1]\n",
        "    alphaopt=alpha\n",
        "\n",
        "print(pesofin)\n",
        "print(cinit)\n",
        "print(alphaopt)\n",
        "\n",
        "contverdaderos=0\n",
        "contfalsos=0\n",
        "acum=predict(X,pesofin)  \n",
        "probabilidad=classify(acum)\n",
        "trues=[]\n",
        "falses=[]\n",
        "for i in np.arange(0,acum.size):\n",
        "  if probabilidad[i]==Y[i]:\n",
        "    trues.append(acum[i]) \n",
        "    \n",
        "  else:\n",
        "    falses.append(acum[i]) \n",
        "\n",
        "plot_decision_boundary(trues,falses)"
      ],
      "execution_count": 165,
      "outputs": [
        {
          "output_type": "stream",
          "text": [
            "[-16.1602695    1.74538164   1.48650834]\n",
            "0.2170079164130147\n",
            "0.43700000000000006\n"
          ],
          "name": "stdout"
        },
        {
          "output_type": "display_data",
          "data": {
            "image/png": "[encoded data removed]",
            "text/plain": [
              "<Figure size 432x288 with 1 Axes>"
            ]
          },
          "metadata": {
            "tags": [],
            "needs_background": "light"
          }
        }
      ]
    },
    {
      "cell_type": "code",
      "metadata": {
        "id": "pnp_6KEUsbUV",
        "colab_type": "code",
        "colab": {}
      },
      "source": [
        "import pandas as pd\n",
        "import numpy as np\n",
        "def train(features, labels, weights, lr, iters):\n",
        "    cost_history = []\n",
        "\n",
        "    for i in range(iters):\n",
        "        weights = update_weights(features, labels, weights, lr)\n",
        "\n",
        "        #Calculate error for auditing purposes\n",
        "        cost = cost_function(features, labels, weights)\n",
        "        cost_history.append(cost)\n",
        "\n",
        "\n",
        "    return weights, cost_history\n",
        "\n",
        "def update_weights(features, labels, weights, lr):\n",
        "    '''\n",
        "    Vectorized Gradient Descent\n",
        "\n",
        "    Features:(200, 3)\n",
        "    Labels: (200, 1)\n",
        "    Weights:(3, 1)\n",
        "    '''\n",
        "    N = len(features)\n",
        "\n",
        "    #1 - Get Predictions\n",
        "    predictions = predict(features, weights)\n",
        "\n",
        "    #2 Transpose features from (200, 3) to (3, 200)\n",
        "    # So we can multiply w the (200,1)  cost matrix.\n",
        "    # Returns a (3,1) matrix holding 3 partial derivatives --\n",
        "    # one for each feature -- representing the aggregate\n",
        "    # slope of the cost function across all observations\n",
        "    gradient = np.dot(features.T,  predictions - labels)\n",
        "\n",
        "    #3 Take the average cost derivative for each feature\n",
        "    gradient /= N\n",
        "\n",
        "    #4 - Multiply the gradient by our learning rate\n",
        "    gradient *= lr\n",
        "\n",
        "    #5 - Subtract from our weights to minimize cost\n",
        "    weights -= gradient\n",
        "\n",
        "    return weights\n",
        "\n",
        "def predict(features, weights):\n",
        "\n",
        "  z = np.dot(features,weights)\n",
        "  return sigmoid(z)\n",
        "\n",
        "def sigmoid(z):\n",
        "  return 1.0 / (1 + np.exp(-z))\n",
        "\n",
        "def cost_function(features, labels, weights):\n",
        "    '''\n",
        "    Using Mean Absolute Error\n",
        "\n",
        "    Features:(100,3)\n",
        "    Labels: (100,1)\n",
        "    Weights:(3,1)\n",
        "    Returns 1D matrix of predictions\n",
        "    Cost = (labels*log(predictions) + (1-labels)*log(1-predictions) ) / len(labels)\n",
        "    '''\n",
        "    observations = len(labels)\n",
        "\n",
        "    predictions = predict(features, weights)\n",
        "\n",
        "    #Take the error when label=1\n",
        "    class1_cost = -labels*np.log(predictions)\n",
        "\n",
        "    #Take the error when label=0\n",
        "    class2_cost = (1-labels)*np.log(1-predictions)\n",
        "\n",
        "    #Take the sum of both costs\n",
        "    cost = class1_cost - class2_cost\n",
        "\n",
        "    #Take the average cost\n",
        "    cost = cost.sum() / observations\n",
        "\n",
        "    return cost\n",
        "    \n",
        "def accuracy(predicted_labels, actual_labels):\n",
        "    diff = predicted_labels - actual_labels\n",
        "    return 1.0 - (float(np.count_nonzero(diff)) / len(diff))\n",
        "\n",
        "def decision_boundary(prob):\n",
        "  return 1 if prob >= .5 else 0\n",
        "\n",
        "def classify(predictions):\n",
        "  '''\n",
        "  input  - N element array of predictions between 0 and 1\n",
        "  output - N element array of 0s (False) and 1s (True)\n",
        "  '''\n",
        "  decision_boundary_v = np.vectorize(decision_boundary)\n",
        "  return decision_boundary_v(predictions).flatten()\n",
        "\n",
        "def plot_decision_boundary(trues, falses):\n",
        "    fig = plt.figure()\n",
        "    ax = fig.add_subplot(111)\n",
        "\n",
        "    no_of_preds = len(trues) + len(falses)\n",
        "\n",
        "    ax.scatter([i for i in range(len(trues))], trues, s=25, c='b', marker=\"o\", label='Trues')\n",
        "    ax.scatter([i for i in range(len(falses))], falses, s=25, c='r', marker=\"s\", label='Falses')\n",
        "\n",
        "    plt.legend(loc='upper right');\n",
        "    ax.set_title(\"Decision Boundary\")\n",
        "    ax.set_xlabel('N/2')\n",
        "    ax.set_ylabel('Predicted Probability')\n",
        "    plt.axhline(.5, color='black')\n",
        "    plt.show()\n",
        "\n",
        "def accuracy(predicted_labels, actual_labels):\n",
        "    diff = predicted_labels - actual_labels\n",
        "    return 1.0 - (float(np.count_nonzero(diff)) / len(diff))"
      ],
      "execution_count": 144,
      "outputs": []
    },
    {
      "cell_type": "markdown",
      "metadata": {
        "id": "bV7Jsied5SKd",
        "colab_type": "text"
      },
      "source": [
        "Metodo 2\n",
        "\n"
      ]
    },
    {
      "cell_type": "code",
      "metadata": {
        "id": "FfANtoje5XJj",
        "colab_type": "code",
        "colab": {
          "base_uri": "https://localhost:8080/",
          "height": 54
        },
        "outputId": "afd3cd9c-f628-4d14-b9b7-e5c06de2f5d8"
      },
      "source": [
        "import sklearn\n",
        "from sklearn.linear_model import LogisticRegression\n",
        "from sklearn.model_selection import train_test_split\n",
        "import numpy  as np\n",
        "\n",
        "# Normalize grades to values between 0 and 1 for more efficient computation\n",
        "normalized_range = sklearn.preprocessing.MinMaxScaler(feature_range=(-1,1))\n",
        "\n",
        "# Extract Features + Labels\n",
        "labels.shape =  (100,) #scikit expects this\n",
        "features = normalized_range.fit_transform(features)\n",
        "\n",
        "# Create Test/Train\n",
        "features_train,features_test,labels_train,labels_test = train_test_split(features,labels,test_size=0.4,random_state=0)\n",
        "\n",
        "# Scikit Logistic Regression\n",
        "scikit_log_reg = LogisticRegression()\n",
        "scikit_log_reg.fit(features_train,labels_train)\n",
        "\n",
        "#Score is Mean Accuracy\n",
        "scikit_score = scikit_log_reg.predict(features_test)\n",
        "precision=accuracy(scikit_score,labels_test)*100\n",
        "print('Scikit score: ', precision)\n",
        "\n",
        "#Our Mean Accuracy\n",
        "probabilities = predict(features, weights).flatten()\n",
        "classifications = classify(probabilities)\n",
        "our_acc = accuracy(classifications,labels.flatten())\n",
        "print('Our score: ',our_acc)"
      ],
      "execution_count": 166,
      "outputs": [
        {
          "output_type": "stream",
          "text": [
            "Scikit score:  90.0\n",
            "Our score:  0.55\n"
          ],
          "name": "stdout"
        }
      ]
    },
    {
      "cell_type": "code",
      "metadata": {
        "id": "uiQ-HAjz8KLn",
        "colab_type": "code",
        "colab": {}
      },
      "source": [
        "def accuracy(predicted_labels, actual_labels):\n",
        "    diff = predicted_labels - actual_labels\n",
        "    return 1.0 - (float(np.count_nonzero(diff)) / len(diff))"
      ],
      "execution_count": null,
      "outputs": []
    },
    {
      "cell_type": "markdown",
      "metadata": {
        "id": "xnnXYHE-Awsg",
        "colab_type": "text"
      },
      "source": [
        "Ejemplo Scikit Learn"
      ]
    },
    {
      "cell_type": "code",
      "metadata": {
        "id": "47fPnRUMA3x9",
        "colab_type": "code",
        "colab": {
          "base_uri": "https://localhost:8080/",
          "height": 202
        },
        "outputId": "ba550a21-3228-41af-e5ff-9ce2abbc73af"
      },
      "source": [
        "from sklearn.datasets import load_iris #Importando Dataset Load_Iris\n",
        "from sklearn.linear_model import LogisticRegression #Importo Bloque de Regresion Logistica\n",
        "X, y = load_iris(return_X_y=True) #Cargando un Dataset (Caracteristica, Etiquetas)\n",
        "clf = LogisticRegression(random_state=0).fit(X, y) #Entrena el modelo de la Regresion Logistica\n",
        "clf.predict(X[:2, :]) #Predecir a que etiqueta pertenece cada caracteristica\n",
        "clf.predict_proba(X[:2, :]) #Retorna la matriz de probabilidades\n",
        "clf.score(X, y) #Saca la precisión de la Regresion"
      ],
      "execution_count": 149,
      "outputs": [
        {
          "output_type": "stream",
          "text": [
            "/usr/local/lib/python3.6/dist-packages/sklearn/linear_model/_logistic.py:940: ConvergenceWarning: lbfgs failed to converge (status=1):\n",
            "STOP: TOTAL NO. of ITERATIONS REACHED LIMIT.\n",
            "\n",
            "Increase the number of iterations (max_iter) or scale the data as shown in:\n",
            "    https://scikit-learn.org/stable/modules/preprocessing.html\n",
            "Please also refer to the documentation for alternative solver options:\n",
            "    https://scikit-learn.org/stable/modules/linear_model.html#logistic-regression\n",
            "  extra_warning_msg=_LOGISTIC_SOLVER_CONVERGENCE_MSG)\n"
          ],
          "name": "stderr"
        },
        {
          "output_type": "execute_result",
          "data": {
            "text/plain": [
              "0.9733333333333334"
            ]
          },
          "metadata": {
            "tags": []
          },
          "execution_count": 149
        }
      ]
    },
    {
      "cell_type": "markdown",
      "metadata": {
        "id": "YpDshM7dDtq4",
        "colab_type": "text"
      },
      "source": [
        "Conclusiones"
      ]
    },
    {
      "cell_type": "markdown",
      "metadata": {
        "id": "UVXbIeY0DuwT",
        "colab_type": "text"
      },
      "source": [
        "-Es importante tener en cuenta el tipo de dato con el que trabaja cada funcion, durante el proceso muchos errores se dieron por estar utilizando datos equivocados, adicionalmente para este proceso es importante tener en cuenta la documentacion que existe de cada modulo utilizado aca, como por ejemplo scikit_learn\n",
        "\n",
        "-Como podemos observar en la Regresion Logistica se puede aplicar mediante la construcción de un codigo propio, en el que podemos ver como el costo va disminuyendo a medidad que el numeo de iteraciones va aumentando, con lo que podemos ver el funcionamiento del algoritmo paso a paso, si bien existe la posibilidad de usar Scikit Learn para obtener todo con unas lineas de codigo, es importante saber como funciona el algoritmo, de ahi la importancia del Punto1"
      ]
    }
  ]
}